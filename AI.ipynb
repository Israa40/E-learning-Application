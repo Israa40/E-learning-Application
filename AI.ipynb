{
  "nbformat": 4,
  "nbformat_minor": 0,
  "metadata": {
    "colab": {
      "provenance": [],
      "include_colab_link": true
    },
    "kernelspec": {
      "name": "python3",
      "display_name": "Python 3"
    },
    "language_info": {
      "name": "python"
    }
  },
  "cells": [
    {
      "cell_type": "markdown",
      "metadata": {
        "id": "view-in-github",
        "colab_type": "text"
      },
      "source": [
        "<a href=\"https://colab.research.google.com/github/Israa40/E-learning-Application/blob/main/AI.ipynb\" target=\"_parent\"><img src=\"https://colab.research.google.com/assets/colab-badge.svg\" alt=\"Open In Colab\"/></a>"
      ]
    },
    {
      "cell_type": "code",
      "execution_count": null,
      "metadata": {
        "colab": {
          "base_uri": "https://localhost:8080/"
        },
        "id": "zkX9fDZlfL66",
        "outputId": "d908c6e5-d6de-4c1d-e931-0155ca787466"
      },
      "outputs": [
        {
          "output_type": "stream",
          "name": "stdout",
          "text": [
            "Mounted at /content/drive\n"
          ]
        }
      ],
      "source": [
        "#My dataset is available in googledrive; so I am accessing my drive from colab\n",
        "from google.colab import drive\n",
        "drive.mount('/content/drive', force_remount=True)\n",
        "#Once this is executed, you will see your drive appearing on the left hand side"
      ]
    },
    {
      "cell_type": "code",
      "source": [
        "# Define paths to the dataset\n",
        "train_dir = '/content/drive/MyDrive/train'  # Update with your actual path\n",
        "test_dir = '/content/drive/MyDrive/test'    # Update with your actual path"
      ],
      "metadata": {
        "id": "Fi_4749dfcAn"
      },
      "execution_count": null,
      "outputs": []
    },
    {
      "cell_type": "code",
      "source": [
        "import os\n",
        "print(len(os.listdir('/content/drive/MyDrive/Train/Bears')))\n",
        "print(len(os.listdir('/content/drive/MyDrive/Train/Pandas')))\n",
        "print(len(os.listdir('/content/drive/MyDrive/Test/Bears')))\n",
        "print(len(os.listdir('/content/drive/MyDrive/Test/Pandas')))"
      ],
      "metadata": {
        "colab": {
          "base_uri": "https://localhost:8080/"
        },
        "id": "nXgsas0JfcHk",
        "outputId": "3446c449-9733-4c30-c43a-a1a18708bc8d"
      },
      "execution_count": null,
      "outputs": [
        {
          "output_type": "stream",
          "name": "stdout",
          "text": [
            "250\n",
            "250\n",
            "50\n",
            "50\n"
          ]
        }
      ]
    },
    {
      "cell_type": "code",
      "source": [
        "import tensorflow as tf\n",
        "from tensorflow.keras.preprocessing.image import ImageDataGenerator\n",
        "\n",
        "# Create ImageDataGenerator for training set\n",
        "train_datagen = ImageDataGenerator(\n",
        "    rescale=1./255,\n",
        "    validation_split=0.2  # Split 20% of the images for validation\n",
        ")\n",
        "\n",
        "# Load and prepare training data\n",
        "train_data = train_datagen.flow_from_directory(\n",
        "    train_dir,\n",
        "    target_size=(256,256),\n",
        "    batch_size=32,\n",
        "    class_mode='binary',  # 'binary' for binary classification (bears vs. pandas)\n",
        "    subset='training'  # Specify 'training' for the training set\n",
        ")\n",
        "\n",
        "# Create ImageDataGenerator for validation set\n",
        "validation_datagen = ImageDataGenerator(\n",
        "    rescale=1./255,\n",
        "    validation_split=0.2  # Note: Using the same validation split as in the training set\n",
        ")\n",
        "\n",
        "# Load and prepare validation data\n",
        "validation_data = validation_datagen.flow_from_directory(\n",
        "    train_dir,\n",
        "    target_size=(256,256),\n",
        "    batch_size=32,\n",
        "    class_mode='binary',\n",
        "    subset='validation'  # Specify 'validation' for the validation set\n",
        ")"
      ],
      "metadata": {
        "colab": {
          "base_uri": "https://localhost:8080/"
        },
        "id": "qiC8CrTqfcJE",
        "outputId": "09cffc5b-888a-497a-b717-2d65342dc420"
      },
      "execution_count": null,
      "outputs": [
        {
          "output_type": "stream",
          "name": "stdout",
          "text": [
            "Found 672 images belonging to 2 classes.\n",
            "Found 168 images belonging to 2 classes.\n"
          ]
        }
      ]
    },
    {
      "cell_type": "code",
      "source": [
        "from tensorflow import keras\n",
        "from keras import Sequential\n",
        "from keras.layers import Dense,Conv2D,MaxPooling2D,Flatten\n",
        "\n",
        "resnet_model = Sequential()    #ResNet50 is a pre-trained model\n",
        "pretrained_model = tf.keras.applications.ResNet50(include_top = False, #because i have my own image of a diff dimension\n",
        "                                                input_shape = (256,256,3),\n",
        "                                                pooling = 'max', classes = 2,\n",
        "                                                weights = 'imagenet')\n",
        "for layer in pretrained_model.layers:\n",
        "    layer.trainable = False  #all layers in the Resnet50 is not trainable; keep those weights; I am going to add my own i/p and other layers\n",
        "\n",
        "resnet_model.add(pretrained_model)\n",
        "resnet_model.add(Flatten())\n",
        "resnet_model.add(Dense(512, activation = 'relu'))\n",
        "resnet_model.add(Dense(1, activation = 'sigmoid'))"
      ],
      "metadata": {
        "colab": {
          "base_uri": "https://localhost:8080/"
        },
        "id": "YirGIxY3fcM7",
        "outputId": "2a16bdf2-341b-46ed-a287-1b7fd368d70b"
      },
      "execution_count": null,
      "outputs": [
        {
          "output_type": "stream",
          "name": "stdout",
          "text": [
            "Downloading data from https://storage.googleapis.com/tensorflow/keras-applications/resnet/resnet50_weights_tf_dim_ordering_tf_kernels_notop.h5\n",
            "94765736/94765736 [==============================] - 1s 0us/step\n"
          ]
        }
      ]
    },
    {
      "cell_type": "code",
      "source": [
        "resnet_model.summary()"
      ],
      "metadata": {
        "colab": {
          "base_uri": "https://localhost:8080/"
        },
        "id": "uHdKZim-fcOe",
        "outputId": "8f13be1d-ca40-4dc5-aaf4-295208f77938"
      },
      "execution_count": null,
      "outputs": [
        {
          "output_type": "stream",
          "name": "stdout",
          "text": [
            "Model: \"sequential\"\n",
            "_________________________________________________________________\n",
            " Layer (type)                Output Shape              Param #   \n",
            "=================================================================\n",
            " resnet50 (Functional)       (None, 2048)              23587712  \n",
            "                                                                 \n",
            " flatten (Flatten)           (None, 2048)              0         \n",
            "                                                                 \n",
            " dense (Dense)               (None, 512)               1049088   \n",
            "                                                                 \n",
            " dense_1 (Dense)             (None, 1)                 513       \n",
            "                                                                 \n",
            "=================================================================\n",
            "Total params: 24637313 (93.98 MB)\n",
            "Trainable params: 1049601 (4.00 MB)\n",
            "Non-trainable params: 23587712 (89.98 MB)\n",
            "_________________________________________________________________\n"
          ]
        }
      ]
    },
    {
      "cell_type": "code",
      "source": [
        "from keras.optimizers import Adam\n",
        "resnet_model.compile(optimizer=Adam(learning_rate=0.001),loss='binary_crossentropy',metrics=['accuracy']) #binary_crossentropy - binary classification"
      ],
      "metadata": {
        "id": "ht19TFoZfcS0"
      },
      "execution_count": null,
      "outputs": []
    },
    {
      "cell_type": "code",
      "source": [
        "history = resnet_model.fit(train_data, epochs=3, validation_data=validation_data)"
      ],
      "metadata": {
        "colab": {
          "base_uri": "https://localhost:8080/"
        },
        "id": "aJ27Hoo5iQID",
        "outputId": "50be837e-33ab-4a2b-deed-6f9dad65c364"
      },
      "execution_count": null,
      "outputs": [
        {
          "output_type": "stream",
          "name": "stdout",
          "text": [
            "Epoch 1/3\n",
            "21/21 [==============================] - 258s 12s/step - loss: 0.6771 - accuracy: 0.5863 - val_loss: 0.9488 - val_accuracy: 0.5000\n",
            "Epoch 2/3\n",
            "21/21 [==============================] - 206s 10s/step - loss: 0.7140 - accuracy: 0.5595 - val_loss: 0.7183 - val_accuracy: 0.5655\n",
            "Epoch 3/3\n",
            "21/21 [==============================] - 259s 12s/step - loss: 0.6600 - accuracy: 0.6205 - val_loss: 0.7646 - val_accuracy: 0.4881\n"
          ]
        }
      ]
    },
    {
      "cell_type": "code",
      "source": [
        "test_datagen = ImageDataGenerator(rescale=1./255)\n",
        "test_data = test_datagen.flow_from_directory(\n",
        "    test_dir,\n",
        "    target_size=(256,256),\n",
        "    batch_size=32,\n",
        "    class_mode='binary'\n",
        ")"
      ],
      "metadata": {
        "colab": {
          "base_uri": "https://localhost:8080/"
        },
        "id": "NCP_k5evoixC",
        "outputId": "133e6340-e3b0-426f-9ad3-b94e1c96772e"
      },
      "execution_count": null,
      "outputs": [
        {
          "output_type": "stream",
          "name": "stdout",
          "text": [
            "Found 188 images belonging to 2 classes.\n"
          ]
        }
      ]
    },
    {
      "cell_type": "code",
      "source": [
        "#predict the test data\n",
        "predictions = resnet_model.predict(test_data)\n",
        "print(predictions)"
      ],
      "metadata": {
        "colab": {
          "base_uri": "https://localhost:8080/"
        },
        "id": "KUGAOAAUoi93",
        "outputId": "8be8a1e2-be63-4981-c145-6380dec07374"
      },
      "execution_count": null,
      "outputs": [
        {
          "output_type": "stream",
          "name": "stdout",
          "text": [
            "6/6 [==============================] - 57s 9s/step\n",
            "[[0.35619786]\n",
            " [0.60096514]\n",
            " [0.7276443 ]\n",
            " [0.48836738]\n",
            " [0.44110236]\n",
            " [0.7163321 ]\n",
            " [0.65039456]\n",
            " [0.59085983]\n",
            " [0.67893046]\n",
            " [0.6033149 ]\n",
            " [0.6494443 ]\n",
            " [0.5073451 ]\n",
            " [0.39839685]\n",
            " [0.40201724]\n",
            " [0.7345342 ]\n",
            " [0.7035397 ]\n",
            " [0.5690972 ]\n",
            " [0.6345632 ]\n",
            " [0.82284266]\n",
            " [0.54512775]\n",
            " [0.71016484]\n",
            " [0.38267124]\n",
            " [0.46707004]\n",
            " [0.91574204]\n",
            " [0.7345342 ]\n",
            " [0.71865195]\n",
            " [0.6431806 ]\n",
            " [0.62061477]\n",
            " [0.47980618]\n",
            " [0.662316  ]\n",
            " [0.6427202 ]\n",
            " [0.5265227 ]\n",
            " [0.6660076 ]\n",
            " [0.616649  ]\n",
            " [0.6353682 ]\n",
            " [0.47141603]\n",
            " [0.43045413]\n",
            " [0.72639185]\n",
            " [0.53606284]\n",
            " [0.6098171 ]\n",
            " [0.5562574 ]\n",
            " [0.3841688 ]\n",
            " [0.41889814]\n",
            " [0.8364606 ]\n",
            " [0.57110393]\n",
            " [0.7496136 ]\n",
            " [0.6997865 ]\n",
            " [0.6966926 ]\n",
            " [0.7550697 ]\n",
            " [0.4257842 ]\n",
            " [0.63042796]\n",
            " [0.45426598]\n",
            " [0.3719664 ]\n",
            " [0.7851418 ]\n",
            " [0.51554286]\n",
            " [0.7280201 ]\n",
            " [0.58688486]\n",
            " [0.5763195 ]\n",
            " [0.7388817 ]\n",
            " [0.6444245 ]\n",
            " [0.53785163]\n",
            " [0.814593  ]\n",
            " [0.74559945]\n",
            " [0.5587819 ]\n",
            " [0.66080225]\n",
            " [0.8735467 ]\n",
            " [0.74573916]\n",
            " [0.37027726]\n",
            " [0.42319965]\n",
            " [0.6880712 ]\n",
            " [0.7337596 ]\n",
            " [0.4473796 ]\n",
            " [0.5511563 ]\n",
            " [0.54378194]\n",
            " [0.5608178 ]\n",
            " [0.5775232 ]\n",
            " [0.4892167 ]\n",
            " [0.62124723]\n",
            " [0.5358774 ]\n",
            " [0.7604038 ]\n",
            " [0.64753723]\n",
            " [0.6362704 ]\n",
            " [0.7910224 ]\n",
            " [0.7052949 ]\n",
            " [0.6438914 ]\n",
            " [0.6508971 ]\n",
            " [0.49942723]\n",
            " [0.7305915 ]\n",
            " [0.6113045 ]\n",
            " [0.8091335 ]\n",
            " [0.66667825]\n",
            " [0.52714026]\n",
            " [0.7088169 ]\n",
            " [0.67481947]\n",
            " [0.8034963 ]\n",
            " [0.74010485]\n",
            " [0.512734  ]\n",
            " [0.45548528]\n",
            " [0.5138523 ]\n",
            " [0.760389  ]\n",
            " [0.65563715]\n",
            " [0.5922484 ]\n",
            " [0.6414844 ]\n",
            " [0.7073672 ]\n",
            " [0.62561905]\n",
            " [0.69512373]\n",
            " [0.72972745]\n",
            " [0.5964116 ]\n",
            " [0.5705688 ]\n",
            " [0.48908228]\n",
            " [0.49177524]\n",
            " [0.69880646]\n",
            " [0.6723696 ]\n",
            " [0.5634365 ]\n",
            " [0.5398258 ]\n",
            " [0.71175826]\n",
            " [0.8419455 ]\n",
            " [0.7134612 ]\n",
            " [0.48709136]\n",
            " [0.8760191 ]\n",
            " [0.8314253 ]\n",
            " [0.3645446 ]\n",
            " [0.63622665]\n",
            " [0.7157749 ]\n",
            " [0.8122559 ]\n",
            " [0.624428  ]\n",
            " [0.7138093 ]\n",
            " [0.6857701 ]\n",
            " [0.7812805 ]\n",
            " [0.6376144 ]\n",
            " [0.61750835]\n",
            " [0.74154055]\n",
            " [0.44404656]\n",
            " [0.6016995 ]\n",
            " [0.65823305]\n",
            " [0.6858414 ]\n",
            " [0.48369145]\n",
            " [0.62061477]\n",
            " [0.5858085 ]\n",
            " [0.6727424 ]\n",
            " [0.4538931 ]\n",
            " [0.68498707]\n",
            " [0.6770916 ]\n",
            " [0.8494507 ]\n",
            " [0.5336644 ]\n",
            " [0.8276843 ]\n",
            " [0.35935932]\n",
            " [0.7203612 ]\n",
            " [0.6671983 ]\n",
            " [0.55540824]\n",
            " [0.78407484]\n",
            " [0.6208254 ]\n",
            " [0.71245885]\n",
            " [0.6279233 ]\n",
            " [0.6179819 ]\n",
            " [0.71465874]\n",
            " [0.59952873]\n",
            " [0.6654283 ]\n",
            " [0.7297529 ]\n",
            " [0.6004087 ]\n",
            " [0.7193231 ]\n",
            " [0.8066227 ]\n",
            " [0.66933495]\n",
            " [0.74485326]\n",
            " [0.7494701 ]\n",
            " [0.5007676 ]\n",
            " [0.64537567]\n",
            " [0.8139644 ]\n",
            " [0.46596438]\n",
            " [0.7374045 ]\n",
            " [0.4977107 ]\n",
            " [0.66638213]\n",
            " [0.58325624]\n",
            " [0.6746953 ]\n",
            " [0.56491077]\n",
            " [0.61340475]\n",
            " [0.3292685 ]\n",
            " [0.656395  ]\n",
            " [0.70135725]\n",
            " [0.6909435 ]\n",
            " [0.8125796 ]\n",
            " [0.46544945]\n",
            " [0.88693005]\n",
            " [0.2912613 ]\n",
            " [0.72964066]\n",
            " [0.51622254]\n",
            " [0.7393557 ]\n",
            " [0.60818726]]\n"
          ]
        }
      ]
    },
    {
      "cell_type": "code",
      "source": [
        "len(predictions)"
      ],
      "metadata": {
        "colab": {
          "base_uri": "https://localhost:8080/"
        },
        "id": "tYU6xTAhppgm",
        "outputId": "f11fd3c9-28ed-426d-9e0d-77c356062de3"
      },
      "execution_count": null,
      "outputs": [
        {
          "output_type": "execute_result",
          "data": {
            "text/plain": [
              "188"
            ]
          },
          "metadata": {},
          "execution_count": 14
        }
      ]
    },
    {
      "cell_type": "code",
      "source": [
        "from sklearn.metrics import confusion_matrix, classification_report\n",
        "\n",
        "# Assuming you have ground truth labels (true_labels) and predicted labels (predictions)\n",
        "true_labels = test_data.classes\n",
        "predicted_labels = (predictions > 0.5).astype(int)  # Adjust the threshold as needed\n",
        "\n",
        "# Calculate confusion matrix\n",
        "cm = confusion_matrix(true_labels, predicted_labels)\n",
        "\n",
        "# Print confusion matrix\n",
        "print(\"Confusion Matrix:\")\n",
        "print(cm)\n",
        "\n",
        "# Print classification report\n",
        "print(\"Classification Report:\")\n",
        "print(classification_report(true_labels, predicted_labels))"
      ],
      "metadata": {
        "colab": {
          "base_uri": "https://localhost:8080/"
        },
        "id": "jNNgHItsp5N5",
        "outputId": "03cbedb6-62f2-46d1-eafb-e07c43608c37"
      },
      "execution_count": null,
      "outputs": [
        {
          "output_type": "stream",
          "name": "stdout",
          "text": [
            "Confusion Matrix:\n",
            "[[20 77]\n",
            " [14 77]]\n",
            "Classification Report:\n",
            "              precision    recall  f1-score   support\n",
            "\n",
            "           0       0.59      0.21      0.31        97\n",
            "           1       0.50      0.85      0.63        91\n",
            "\n",
            "    accuracy                           0.52       188\n",
            "   macro avg       0.54      0.53      0.47       188\n",
            "weighted avg       0.55      0.52      0.46       188\n",
            "\n"
          ]
        }
      ]
    }
  ]
}